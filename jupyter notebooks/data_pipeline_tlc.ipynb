{
 "cells": [
  {
   "cell_type": "code",
   "execution_count": 3,
   "id": "50795021",
   "metadata": {},
   "outputs": [],
   "source": [
    "import os\n",
    "import numpy as np\n",
    "import pandas as pd\n",
    "import dask.dataframe as dd\n",
    "from dask.diagnostics import ProgressBar"
   ]
  },
  {
   "cell_type": "code",
   "execution_count": 7,
   "id": "6d793a38",
   "metadata": {},
   "outputs": [],
   "source": [
    "def convert_dtype(x):\n",
    "    if not x:\n",
    "        return ''\n",
    "    try:\n",
    "        return str(x)   \n",
    "    except:        \n",
    "        return ''"
   ]
  },
  {
   "cell_type": "code",
   "execution_count": 9,
   "id": "e0cafc1a",
   "metadata": {},
   "outputs": [],
   "source": [
    "filename = os.path.join('../data', 'yellow_tripdata_2021-**.csv')\n",
    "schema = {'trip_distance': 'float64', 'PULocationID': 'uint16', 'DOLocationID': 'uint16', 'store_and_fwd_flag': 'str', \n",
    "          'fare_amount': 'float64', 'extra': 'float64', 'mta_tax': 'float64', 'tip_amount': 'float64', 'tolls_amount': 'float64',\n",
    "          'improvement_surcharge': 'float64', 'total_amount': 'float64', 'congestion_surcharge': 'float64', 'RatecodeID': 'uint8',\n",
    "          'VendorID': 'uint8', 'passenger_count': 'uint8', 'payment_type': 'uint8'}\n",
    "date_fields = ['tpep_pickup_datetime', 'tpep_dropoff_datetime']"
   ]
  },
  {
   "cell_type": "code",
   "execution_count": 7,
   "id": "45ca2f92",
   "metadata": {},
   "outputs": [],
   "source": [
    "df = dd.read_csv(filename, \n",
    "                 dtype={'RatecodeID': 'float64','VendorID': 'float64', 'passenger_count': 'float64', 'payment_type': 'float64'},\n",
    "                 converters = {'store_and_fwd_flag': convert_dtype}, parse_dates=date_fields)"
   ]
  },
  {
   "cell_type": "code",
   "execution_count": 8,
   "id": "ab35e9a2",
   "metadata": {},
   "outputs": [
    {
     "data": {
      "text/plain": [
       "VendorID                        float64\n",
       "tpep_pickup_datetime     datetime64[ns]\n",
       "tpep_dropoff_datetime    datetime64[ns]\n",
       "passenger_count                 float64\n",
       "trip_distance                   float64\n",
       "RatecodeID                      float64\n",
       "store_and_fwd_flag               object\n",
       "PULocationID                      int64\n",
       "DOLocationID                      int64\n",
       "payment_type                    float64\n",
       "fare_amount                     float64\n",
       "extra                           float64\n",
       "mta_tax                         float64\n",
       "tip_amount                      float64\n",
       "tolls_amount                    float64\n",
       "improvement_surcharge           float64\n",
       "total_amount                    float64\n",
       "congestion_surcharge            float64\n",
       "dtype: object"
      ]
     },
     "execution_count": 8,
     "metadata": {},
     "output_type": "execute_result"
    }
   ],
   "source": [
    "df.dtypes"
   ]
  },
  {
   "cell_type": "code",
   "execution_count": 9,
   "id": "3585ca12",
   "metadata": {},
   "outputs": [
    {
     "data": {
      "text/html": [
       "<div>\n",
       "<style scoped>\n",
       "    .dataframe tbody tr th:only-of-type {\n",
       "        vertical-align: middle;\n",
       "    }\n",
       "\n",
       "    .dataframe tbody tr th {\n",
       "        vertical-align: top;\n",
       "    }\n",
       "\n",
       "    .dataframe thead th {\n",
       "        text-align: right;\n",
       "    }\n",
       "</style>\n",
       "<table border=\"1\" class=\"dataframe\">\n",
       "  <thead>\n",
       "    <tr style=\"text-align: right;\">\n",
       "      <th></th>\n",
       "      <th>VendorID</th>\n",
       "      <th>tpep_pickup_datetime</th>\n",
       "      <th>tpep_dropoff_datetime</th>\n",
       "      <th>passenger_count</th>\n",
       "      <th>trip_distance</th>\n",
       "      <th>RatecodeID</th>\n",
       "      <th>store_and_fwd_flag</th>\n",
       "      <th>PULocationID</th>\n",
       "      <th>DOLocationID</th>\n",
       "      <th>payment_type</th>\n",
       "      <th>fare_amount</th>\n",
       "      <th>extra</th>\n",
       "      <th>mta_tax</th>\n",
       "      <th>tip_amount</th>\n",
       "      <th>tolls_amount</th>\n",
       "      <th>improvement_surcharge</th>\n",
       "      <th>total_amount</th>\n",
       "      <th>congestion_surcharge</th>\n",
       "    </tr>\n",
       "  </thead>\n",
       "  <tbody>\n",
       "    <tr>\n",
       "      <th>520719</th>\n",
       "      <td>1.0</td>\n",
       "      <td>2021-01-14 12:14:52</td>\n",
       "      <td>2021-01-14 12:16:52</td>\n",
       "      <td>1.0</td>\n",
       "      <td>0.20</td>\n",
       "      <td>1.0</td>\n",
       "      <td>N</td>\n",
       "      <td>75</td>\n",
       "      <td>75</td>\n",
       "      <td>2.0</td>\n",
       "      <td>3.5</td>\n",
       "      <td>0.0</td>\n",
       "      <td>0.5</td>\n",
       "      <td>0.00</td>\n",
       "      <td>0.0</td>\n",
       "      <td>0.3</td>\n",
       "      <td>4.30</td>\n",
       "      <td>0.0</td>\n",
       "    </tr>\n",
       "    <tr>\n",
       "      <th>287612</th>\n",
       "      <td>1.0</td>\n",
       "      <td>2021-01-08 17:46:55</td>\n",
       "      <td>2021-01-08 17:53:28</td>\n",
       "      <td>1.0</td>\n",
       "      <td>0.80</td>\n",
       "      <td>1.0</td>\n",
       "      <td>N</td>\n",
       "      <td>239</td>\n",
       "      <td>142</td>\n",
       "      <td>1.0</td>\n",
       "      <td>6.0</td>\n",
       "      <td>3.5</td>\n",
       "      <td>0.5</td>\n",
       "      <td>2.00</td>\n",
       "      <td>0.0</td>\n",
       "      <td>0.3</td>\n",
       "      <td>12.30</td>\n",
       "      <td>2.5</td>\n",
       "    </tr>\n",
       "    <tr>\n",
       "      <th>236741</th>\n",
       "      <td>2.0</td>\n",
       "      <td>2021-01-07 15:46:55</td>\n",
       "      <td>2021-01-07 15:49:24</td>\n",
       "      <td>4.0</td>\n",
       "      <td>0.82</td>\n",
       "      <td>1.0</td>\n",
       "      <td>N</td>\n",
       "      <td>229</td>\n",
       "      <td>141</td>\n",
       "      <td>1.0</td>\n",
       "      <td>4.5</td>\n",
       "      <td>0.0</td>\n",
       "      <td>0.5</td>\n",
       "      <td>1.56</td>\n",
       "      <td>0.0</td>\n",
       "      <td>0.3</td>\n",
       "      <td>9.36</td>\n",
       "      <td>2.5</td>\n",
       "    </tr>\n",
       "    <tr>\n",
       "      <th>255710</th>\n",
       "      <td>2.0</td>\n",
       "      <td>2021-01-07 23:52:54</td>\n",
       "      <td>2021-01-08 00:09:07</td>\n",
       "      <td>1.0</td>\n",
       "      <td>9.72</td>\n",
       "      <td>1.0</td>\n",
       "      <td>N</td>\n",
       "      <td>70</td>\n",
       "      <td>79</td>\n",
       "      <td>1.0</td>\n",
       "      <td>27.5</td>\n",
       "      <td>0.5</td>\n",
       "      <td>0.5</td>\n",
       "      <td>3.08</td>\n",
       "      <td>0.0</td>\n",
       "      <td>0.3</td>\n",
       "      <td>34.38</td>\n",
       "      <td>2.5</td>\n",
       "    </tr>\n",
       "    <tr>\n",
       "      <th>685273</th>\n",
       "      <td>2.0</td>\n",
       "      <td>2021-01-18 14:55:09</td>\n",
       "      <td>2021-01-18 15:02:49</td>\n",
       "      <td>1.0</td>\n",
       "      <td>1.41</td>\n",
       "      <td>1.0</td>\n",
       "      <td>N</td>\n",
       "      <td>230</td>\n",
       "      <td>233</td>\n",
       "      <td>2.0</td>\n",
       "      <td>7.0</td>\n",
       "      <td>0.0</td>\n",
       "      <td>0.5</td>\n",
       "      <td>0.00</td>\n",
       "      <td>0.0</td>\n",
       "      <td>0.3</td>\n",
       "      <td>10.30</td>\n",
       "      <td>2.5</td>\n",
       "    </tr>\n",
       "  </tbody>\n",
       "</table>\n",
       "</div>"
      ],
      "text/plain": [
       "        VendorID tpep_pickup_datetime tpep_dropoff_datetime  passenger_count  \\\n",
       "520719       1.0  2021-01-14 12:14:52   2021-01-14 12:16:52              1.0   \n",
       "287612       1.0  2021-01-08 17:46:55   2021-01-08 17:53:28              1.0   \n",
       "236741       2.0  2021-01-07 15:46:55   2021-01-07 15:49:24              4.0   \n",
       "255710       2.0  2021-01-07 23:52:54   2021-01-08 00:09:07              1.0   \n",
       "685273       2.0  2021-01-18 14:55:09   2021-01-18 15:02:49              1.0   \n",
       "\n",
       "        trip_distance  RatecodeID store_and_fwd_flag  PULocationID  \\\n",
       "520719           0.20         1.0                  N            75   \n",
       "287612           0.80         1.0                  N           239   \n",
       "236741           0.82         1.0                  N           229   \n",
       "255710           9.72         1.0                  N            70   \n",
       "685273           1.41         1.0                  N           230   \n",
       "\n",
       "        DOLocationID  payment_type  fare_amount  extra  mta_tax  tip_amount  \\\n",
       "520719            75           2.0          3.5    0.0      0.5        0.00   \n",
       "287612           142           1.0          6.0    3.5      0.5        2.00   \n",
       "236741           141           1.0          4.5    0.0      0.5        1.56   \n",
       "255710            79           1.0         27.5    0.5      0.5        3.08   \n",
       "685273           233           2.0          7.0    0.0      0.5        0.00   \n",
       "\n",
       "        tolls_amount  improvement_surcharge  total_amount  \\\n",
       "520719           0.0                    0.3          4.30   \n",
       "287612           0.0                    0.3         12.30   \n",
       "236741           0.0                    0.3          9.36   \n",
       "255710           0.0                    0.3         34.38   \n",
       "685273           0.0                    0.3         10.30   \n",
       "\n",
       "        congestion_surcharge  \n",
       "520719                   0.0  \n",
       "287612                   2.5  \n",
       "236741                   2.5  \n",
       "255710                   2.5  \n",
       "685273                   2.5  "
      ]
     },
     "execution_count": 9,
     "metadata": {},
     "output_type": "execute_result"
    }
   ],
   "source": [
    "df.sample(frac=0.00001).head(5)"
   ]
  },
  {
   "cell_type": "code",
   "execution_count": 10,
   "id": "e6cd31f0",
   "metadata": {},
   "outputs": [],
   "source": [
    "pbar = ProgressBar()\n",
    "pbar.register()"
   ]
  },
  {
   "cell_type": "code",
   "execution_count": 8,
   "id": "80004349",
   "metadata": {},
   "outputs": [
    {
     "name": "stdout",
     "output_type": "stream",
     "text": [
      "[########################################] | 100% Completed | 29.7s\n"
     ]
    },
    {
     "data": {
      "text/plain": [
       "15000700"
      ]
     },
     "execution_count": 8,
     "metadata": {},
     "output_type": "execute_result"
    }
   ],
   "source": [
    "len(df)"
   ]
  },
  {
   "cell_type": "code",
   "execution_count": 9,
   "id": "3220becb",
   "metadata": {},
   "outputs": [
    {
     "name": "stdout",
     "output_type": "stream",
     "text": [
      "[########################################] | 100% Completed | 30.2s\n"
     ]
    },
    {
     "data": {
      "text/plain": [
       "VendorID                 834028\n",
       "tpep_pickup_datetime          0\n",
       "tpep_dropoff_datetime         0\n",
       "passenger_count          834028\n",
       "trip_distance                 0\n",
       "RatecodeID               834028\n",
       "store_and_fwd_flag            0\n",
       "PULocationID                  0\n",
       "DOLocationID                  0\n",
       "payment_type             834028\n",
       "fare_amount                   0\n",
       "extra                         0\n",
       "mta_tax                       0\n",
       "tip_amount                    0\n",
       "tolls_amount                  0\n",
       "improvement_surcharge         0\n",
       "total_amount                  0\n",
       "congestion_surcharge          0\n",
       "dtype: int64"
      ]
     },
     "execution_count": 9,
     "metadata": {},
     "output_type": "execute_result"
    }
   ],
   "source": [
    "df.isnull().sum().compute()"
   ]
  },
  {
   "cell_type": "code",
   "execution_count": 13,
   "id": "888f0631",
   "metadata": {},
   "outputs": [],
   "source": [
    "df = df[(df['VendorID'].isin([1, 2])) & (df['tpep_pickup_datetime'] != 0) & (df['tpep_dropoff_datetime']  != 0)\n",
    "       & (df['passenger_count'] > 0) & (df['trip_distance'] > 0) & (df['RatecodeID'].isin([1,2,3,4,5,6]))         \n",
    "       & (df['store_and_fwd_flag'].isin(['Y', 'N'])) & (df['PULocationID'] > 0) & (df['DOLocationID'] > 0) \n",
    "       & (df['payment_type'].isin([1,2,3,4,5,6])) & (df['total_amount'] > 0)  & df['tpep_pickup_datetime'].dt.year.isin([2021])]"
   ]
  },
  {
   "cell_type": "code",
   "execution_count": 11,
   "id": "3760e158",
   "metadata": {},
   "outputs": [
    {
     "name": "stdout",
     "output_type": "stream",
     "text": [
      "[########################################] | 100% Completed | 34.4s\n"
     ]
    },
    {
     "data": {
      "text/html": [
       "<div>\n",
       "<style scoped>\n",
       "    .dataframe tbody tr th:only-of-type {\n",
       "        vertical-align: middle;\n",
       "    }\n",
       "\n",
       "    .dataframe tbody tr th {\n",
       "        vertical-align: top;\n",
       "    }\n",
       "\n",
       "    .dataframe thead th {\n",
       "        text-align: right;\n",
       "    }\n",
       "</style>\n",
       "<table border=\"1\" class=\"dataframe\">\n",
       "  <thead>\n",
       "    <tr style=\"text-align: right;\">\n",
       "      <th></th>\n",
       "      <th>VendorID</th>\n",
       "      <th>passenger_count</th>\n",
       "      <th>trip_distance</th>\n",
       "      <th>RatecodeID</th>\n",
       "      <th>PULocationID</th>\n",
       "      <th>DOLocationID</th>\n",
       "      <th>payment_type</th>\n",
       "      <th>fare_amount</th>\n",
       "      <th>extra</th>\n",
       "      <th>mta_tax</th>\n",
       "      <th>tip_amount</th>\n",
       "      <th>tolls_amount</th>\n",
       "      <th>improvement_surcharge</th>\n",
       "      <th>total_amount</th>\n",
       "      <th>congestion_surcharge</th>\n",
       "    </tr>\n",
       "  </thead>\n",
       "  <tbody>\n",
       "    <tr>\n",
       "      <th>count</th>\n",
       "      <td>1.361178e+07</td>\n",
       "      <td>1.361178e+07</td>\n",
       "      <td>1.361178e+07</td>\n",
       "      <td>1.361178e+07</td>\n",
       "      <td>1.361178e+07</td>\n",
       "      <td>1.361178e+07</td>\n",
       "      <td>1.361178e+07</td>\n",
       "      <td>1.361178e+07</td>\n",
       "      <td>1.361178e+07</td>\n",
       "      <td>1.361178e+07</td>\n",
       "      <td>1.361178e+07</td>\n",
       "      <td>1.361178e+07</td>\n",
       "      <td>1.361178e+07</td>\n",
       "      <td>1.361178e+07</td>\n",
       "      <td>1.361178e+07</td>\n",
       "    </tr>\n",
       "    <tr>\n",
       "      <th>mean</th>\n",
       "      <td>1.705757e+00</td>\n",
       "      <td>1.461888e+00</td>\n",
       "      <td>2.923087e+00</td>\n",
       "      <td>1.030562e+00</td>\n",
       "      <td>1.661687e+02</td>\n",
       "      <td>1.636657e+02</td>\n",
       "      <td>1.244544e+00</td>\n",
       "      <td>1.209175e+01</td>\n",
       "      <td>1.013808e+00</td>\n",
       "      <td>4.985114e-01</td>\n",
       "      <td>2.201960e+00</td>\n",
       "      <td>2.657080e-01</td>\n",
       "      <td>2.999857e-01</td>\n",
       "      <td>1.803634e+01</td>\n",
       "      <td>2.317345e+00</td>\n",
       "    </tr>\n",
       "    <tr>\n",
       "      <th>std</th>\n",
       "      <td>4.557017e-01</td>\n",
       "      <td>1.037347e+00</td>\n",
       "      <td>5.700789e+01</td>\n",
       "      <td>2.488056e-01</td>\n",
       "      <td>6.597232e+01</td>\n",
       "      <td>7.066129e+01</td>\n",
       "      <td>4.470184e-01</td>\n",
       "      <td>1.078686e+02</td>\n",
       "      <td>1.221645e+00</td>\n",
       "      <td>2.732084e-02</td>\n",
       "      <td>2.560101e+00</td>\n",
       "      <td>1.500124e+00</td>\n",
       "      <td>2.073052e-03</td>\n",
       "      <td>1.081276e+02</td>\n",
       "      <td>6.505950e-01</td>\n",
       "    </tr>\n",
       "    <tr>\n",
       "      <th>min</th>\n",
       "      <td>1.000000e+00</td>\n",
       "      <td>1.000000e+00</td>\n",
       "      <td>1.000000e-02</td>\n",
       "      <td>1.000000e+00</td>\n",
       "      <td>1.000000e+00</td>\n",
       "      <td>1.000000e+00</td>\n",
       "      <td>1.000000e+00</td>\n",
       "      <td>0.000000e+00</td>\n",
       "      <td>0.000000e+00</td>\n",
       "      <td>0.000000e+00</td>\n",
       "      <td>0.000000e+00</td>\n",
       "      <td>0.000000e+00</td>\n",
       "      <td>0.000000e+00</td>\n",
       "      <td>1.000000e-02</td>\n",
       "      <td>0.000000e+00</td>\n",
       "    </tr>\n",
       "    <tr>\n",
       "      <th>25%</th>\n",
       "      <td>1.000000e+00</td>\n",
       "      <td>1.000000e+00</td>\n",
       "      <td>1.140000e+00</td>\n",
       "      <td>1.000000e+00</td>\n",
       "      <td>1.320000e+02</td>\n",
       "      <td>1.140000e+02</td>\n",
       "      <td>1.000000e+00</td>\n",
       "      <td>6.500000e+00</td>\n",
       "      <td>0.000000e+00</td>\n",
       "      <td>5.000000e-01</td>\n",
       "      <td>1.000000e-01</td>\n",
       "      <td>0.000000e+00</td>\n",
       "      <td>3.000000e-01</td>\n",
       "      <td>1.176000e+01</td>\n",
       "      <td>2.500000e+00</td>\n",
       "    </tr>\n",
       "    <tr>\n",
       "      <th>50%</th>\n",
       "      <td>2.000000e+00</td>\n",
       "      <td>1.000000e+00</td>\n",
       "      <td>1.900000e+00</td>\n",
       "      <td>1.000000e+00</td>\n",
       "      <td>1.630000e+02</td>\n",
       "      <td>1.620000e+02</td>\n",
       "      <td>1.000000e+00</td>\n",
       "      <td>9.500000e+00</td>\n",
       "      <td>5.000000e-01</td>\n",
       "      <td>5.000000e-01</td>\n",
       "      <td>2.000000e+00</td>\n",
       "      <td>0.000000e+00</td>\n",
       "      <td>3.000000e-01</td>\n",
       "      <td>1.480000e+01</td>\n",
       "      <td>2.500000e+00</td>\n",
       "    </tr>\n",
       "    <tr>\n",
       "      <th>75%</th>\n",
       "      <td>2.000000e+00</td>\n",
       "      <td>2.000000e+00</td>\n",
       "      <td>3.370000e+00</td>\n",
       "      <td>1.000000e+00</td>\n",
       "      <td>2.360000e+02</td>\n",
       "      <td>2.360000e+02</td>\n",
       "      <td>2.000000e+00</td>\n",
       "      <td>1.450000e+01</td>\n",
       "      <td>2.500000e+00</td>\n",
       "      <td>5.000000e-01</td>\n",
       "      <td>3.060000e+00</td>\n",
       "      <td>0.000000e+00</td>\n",
       "      <td>3.000000e-01</td>\n",
       "      <td>2.076000e+01</td>\n",
       "      <td>2.500000e+00</td>\n",
       "    </tr>\n",
       "    <tr>\n",
       "      <th>max</th>\n",
       "      <td>2.000000e+00</td>\n",
       "      <td>9.000000e+00</td>\n",
       "      <td>1.316521e+05</td>\n",
       "      <td>6.000000e+00</td>\n",
       "      <td>2.650000e+02</td>\n",
       "      <td>2.650000e+02</td>\n",
       "      <td>4.000000e+00</td>\n",
       "      <td>3.958544e+05</td>\n",
       "      <td>9.006000e+01</td>\n",
       "      <td>3.850000e+00</td>\n",
       "      <td>1.140440e+03</td>\n",
       "      <td>9.565500e+02</td>\n",
       "      <td>3.000000e-01</td>\n",
       "      <td>3.958547e+05</td>\n",
       "      <td>2.750000e+00</td>\n",
       "    </tr>\n",
       "  </tbody>\n",
       "</table>\n",
       "</div>"
      ],
      "text/plain": [
       "           VendorID  passenger_count  trip_distance    RatecodeID  \\\n",
       "count  1.361178e+07     1.361178e+07   1.361178e+07  1.361178e+07   \n",
       "mean   1.705757e+00     1.461888e+00   2.923087e+00  1.030562e+00   \n",
       "std    4.557017e-01     1.037347e+00   5.700789e+01  2.488056e-01   \n",
       "min    1.000000e+00     1.000000e+00   1.000000e-02  1.000000e+00   \n",
       "25%    1.000000e+00     1.000000e+00   1.140000e+00  1.000000e+00   \n",
       "50%    2.000000e+00     1.000000e+00   1.900000e+00  1.000000e+00   \n",
       "75%    2.000000e+00     2.000000e+00   3.370000e+00  1.000000e+00   \n",
       "max    2.000000e+00     9.000000e+00   1.316521e+05  6.000000e+00   \n",
       "\n",
       "       PULocationID  DOLocationID  payment_type   fare_amount         extra  \\\n",
       "count  1.361178e+07  1.361178e+07  1.361178e+07  1.361178e+07  1.361178e+07   \n",
       "mean   1.661687e+02  1.636657e+02  1.244544e+00  1.209175e+01  1.013808e+00   \n",
       "std    6.597232e+01  7.066129e+01  4.470184e-01  1.078686e+02  1.221645e+00   \n",
       "min    1.000000e+00  1.000000e+00  1.000000e+00  0.000000e+00  0.000000e+00   \n",
       "25%    1.320000e+02  1.140000e+02  1.000000e+00  6.500000e+00  0.000000e+00   \n",
       "50%    1.630000e+02  1.620000e+02  1.000000e+00  9.500000e+00  5.000000e-01   \n",
       "75%    2.360000e+02  2.360000e+02  2.000000e+00  1.450000e+01  2.500000e+00   \n",
       "max    2.650000e+02  2.650000e+02  4.000000e+00  3.958544e+05  9.006000e+01   \n",
       "\n",
       "            mta_tax    tip_amount  tolls_amount  improvement_surcharge  \\\n",
       "count  1.361178e+07  1.361178e+07  1.361178e+07           1.361178e+07   \n",
       "mean   4.985114e-01  2.201960e+00  2.657080e-01           2.999857e-01   \n",
       "std    2.732084e-02  2.560101e+00  1.500124e+00           2.073052e-03   \n",
       "min    0.000000e+00  0.000000e+00  0.000000e+00           0.000000e+00   \n",
       "25%    5.000000e-01  1.000000e-01  0.000000e+00           3.000000e-01   \n",
       "50%    5.000000e-01  2.000000e+00  0.000000e+00           3.000000e-01   \n",
       "75%    5.000000e-01  3.060000e+00  0.000000e+00           3.000000e-01   \n",
       "max    3.850000e+00  1.140440e+03  9.565500e+02           3.000000e-01   \n",
       "\n",
       "       total_amount  congestion_surcharge  \n",
       "count  1.361178e+07          1.361178e+07  \n",
       "mean   1.803634e+01          2.317345e+00  \n",
       "std    1.081276e+02          6.505950e-01  \n",
       "min    1.000000e-02          0.000000e+00  \n",
       "25%    1.176000e+01          2.500000e+00  \n",
       "50%    1.480000e+01          2.500000e+00  \n",
       "75%    2.076000e+01          2.500000e+00  \n",
       "max    3.958547e+05          2.750000e+00  "
      ]
     },
     "execution_count": 11,
     "metadata": {},
     "output_type": "execute_result"
    }
   ],
   "source": [
    "df.describe().compute()"
   ]
  },
  {
   "cell_type": "code",
   "execution_count": 14,
   "id": "4463f56b",
   "metadata": {},
   "outputs": [],
   "source": [
    "df = df.dropna().astype(schema)"
   ]
  },
  {
   "cell_type": "code",
   "execution_count": 13,
   "id": "8509ab2d",
   "metadata": {},
   "outputs": [
    {
     "name": "stdout",
     "output_type": "stream",
     "text": [
      "[########################################] | 100% Completed | 33.4s\n"
     ]
    },
    {
     "data": {
      "text/plain": [
       "13611781"
      ]
     },
     "execution_count": 13,
     "metadata": {},
     "output_type": "execute_result"
    }
   ],
   "source": [
    "len(df)"
   ]
  },
  {
   "cell_type": "code",
   "execution_count": 14,
   "id": "92276821",
   "metadata": {},
   "outputs": [
    {
     "name": "stdout",
     "output_type": "stream",
     "text": [
      "[########################################] | 100% Completed |  2.2s\n"
     ]
    },
    {
     "data": {
      "text/html": [
       "<div>\n",
       "<style scoped>\n",
       "    .dataframe tbody tr th:only-of-type {\n",
       "        vertical-align: middle;\n",
       "    }\n",
       "\n",
       "    .dataframe tbody tr th {\n",
       "        vertical-align: top;\n",
       "    }\n",
       "\n",
       "    .dataframe thead th {\n",
       "        text-align: right;\n",
       "    }\n",
       "</style>\n",
       "<table border=\"1\" class=\"dataframe\">\n",
       "  <thead>\n",
       "    <tr style=\"text-align: right;\">\n",
       "      <th></th>\n",
       "      <th>VendorID</th>\n",
       "      <th>tpep_pickup_datetime</th>\n",
       "      <th>tpep_dropoff_datetime</th>\n",
       "      <th>passenger_count</th>\n",
       "      <th>trip_distance</th>\n",
       "      <th>RatecodeID</th>\n",
       "      <th>store_and_fwd_flag</th>\n",
       "      <th>PULocationID</th>\n",
       "      <th>DOLocationID</th>\n",
       "      <th>payment_type</th>\n",
       "      <th>fare_amount</th>\n",
       "      <th>extra</th>\n",
       "      <th>mta_tax</th>\n",
       "      <th>tip_amount</th>\n",
       "      <th>tolls_amount</th>\n",
       "      <th>improvement_surcharge</th>\n",
       "      <th>total_amount</th>\n",
       "      <th>congestion_surcharge</th>\n",
       "    </tr>\n",
       "  </thead>\n",
       "  <tbody>\n",
       "    <tr>\n",
       "      <th>0</th>\n",
       "      <td>1</td>\n",
       "      <td>2021-01-01 00:30:10</td>\n",
       "      <td>2021-01-01 00:36:12</td>\n",
       "      <td>1</td>\n",
       "      <td>2.10</td>\n",
       "      <td>1</td>\n",
       "      <td>N</td>\n",
       "      <td>142</td>\n",
       "      <td>43</td>\n",
       "      <td>2</td>\n",
       "      <td>8.0</td>\n",
       "      <td>3.0</td>\n",
       "      <td>0.5</td>\n",
       "      <td>0.00</td>\n",
       "      <td>0.0</td>\n",
       "      <td>0.3</td>\n",
       "      <td>11.80</td>\n",
       "      <td>2.5</td>\n",
       "    </tr>\n",
       "    <tr>\n",
       "      <th>1</th>\n",
       "      <td>1</td>\n",
       "      <td>2021-01-01 00:51:20</td>\n",
       "      <td>2021-01-01 00:52:19</td>\n",
       "      <td>1</td>\n",
       "      <td>0.20</td>\n",
       "      <td>1</td>\n",
       "      <td>N</td>\n",
       "      <td>238</td>\n",
       "      <td>151</td>\n",
       "      <td>2</td>\n",
       "      <td>3.0</td>\n",
       "      <td>0.5</td>\n",
       "      <td>0.5</td>\n",
       "      <td>0.00</td>\n",
       "      <td>0.0</td>\n",
       "      <td>0.3</td>\n",
       "      <td>4.30</td>\n",
       "      <td>0.0</td>\n",
       "    </tr>\n",
       "    <tr>\n",
       "      <th>2</th>\n",
       "      <td>1</td>\n",
       "      <td>2021-01-01 00:43:30</td>\n",
       "      <td>2021-01-01 01:11:06</td>\n",
       "      <td>1</td>\n",
       "      <td>14.70</td>\n",
       "      <td>1</td>\n",
       "      <td>N</td>\n",
       "      <td>132</td>\n",
       "      <td>165</td>\n",
       "      <td>1</td>\n",
       "      <td>42.0</td>\n",
       "      <td>0.5</td>\n",
       "      <td>0.5</td>\n",
       "      <td>8.65</td>\n",
       "      <td>0.0</td>\n",
       "      <td>0.3</td>\n",
       "      <td>51.95</td>\n",
       "      <td>0.0</td>\n",
       "    </tr>\n",
       "    <tr>\n",
       "      <th>4</th>\n",
       "      <td>2</td>\n",
       "      <td>2021-01-01 00:31:49</td>\n",
       "      <td>2021-01-01 00:48:21</td>\n",
       "      <td>1</td>\n",
       "      <td>4.94</td>\n",
       "      <td>1</td>\n",
       "      <td>N</td>\n",
       "      <td>68</td>\n",
       "      <td>33</td>\n",
       "      <td>1</td>\n",
       "      <td>16.5</td>\n",
       "      <td>0.5</td>\n",
       "      <td>0.5</td>\n",
       "      <td>4.06</td>\n",
       "      <td>0.0</td>\n",
       "      <td>0.3</td>\n",
       "      <td>24.36</td>\n",
       "      <td>2.5</td>\n",
       "    </tr>\n",
       "    <tr>\n",
       "      <th>5</th>\n",
       "      <td>1</td>\n",
       "      <td>2021-01-01 00:16:29</td>\n",
       "      <td>2021-01-01 00:24:30</td>\n",
       "      <td>1</td>\n",
       "      <td>1.60</td>\n",
       "      <td>1</td>\n",
       "      <td>N</td>\n",
       "      <td>224</td>\n",
       "      <td>68</td>\n",
       "      <td>1</td>\n",
       "      <td>8.0</td>\n",
       "      <td>3.0</td>\n",
       "      <td>0.5</td>\n",
       "      <td>2.35</td>\n",
       "      <td>0.0</td>\n",
       "      <td>0.3</td>\n",
       "      <td>14.15</td>\n",
       "      <td>2.5</td>\n",
       "    </tr>\n",
       "  </tbody>\n",
       "</table>\n",
       "</div>"
      ],
      "text/plain": [
       "   VendorID tpep_pickup_datetime tpep_dropoff_datetime  passenger_count  \\\n",
       "0         1  2021-01-01 00:30:10   2021-01-01 00:36:12                1   \n",
       "1         1  2021-01-01 00:51:20   2021-01-01 00:52:19                1   \n",
       "2         1  2021-01-01 00:43:30   2021-01-01 01:11:06                1   \n",
       "4         2  2021-01-01 00:31:49   2021-01-01 00:48:21                1   \n",
       "5         1  2021-01-01 00:16:29   2021-01-01 00:24:30                1   \n",
       "\n",
       "   trip_distance  RatecodeID store_and_fwd_flag  PULocationID  DOLocationID  \\\n",
       "0           2.10           1                  N           142            43   \n",
       "1           0.20           1                  N           238           151   \n",
       "2          14.70           1                  N           132           165   \n",
       "4           4.94           1                  N            68            33   \n",
       "5           1.60           1                  N           224            68   \n",
       "\n",
       "   payment_type  fare_amount  extra  mta_tax  tip_amount  tolls_amount  \\\n",
       "0             2          8.0    3.0      0.5        0.00           0.0   \n",
       "1             2          3.0    0.5      0.5        0.00           0.0   \n",
       "2             1         42.0    0.5      0.5        8.65           0.0   \n",
       "4             1         16.5    0.5      0.5        4.06           0.0   \n",
       "5             1          8.0    3.0      0.5        2.35           0.0   \n",
       "\n",
       "   improvement_surcharge  total_amount  congestion_surcharge  \n",
       "0                    0.3         11.80                   2.5  \n",
       "1                    0.3          4.30                   0.0  \n",
       "2                    0.3         51.95                   0.0  \n",
       "4                    0.3         24.36                   2.5  \n",
       "5                    0.3         14.15                   2.5  "
      ]
     },
     "execution_count": 14,
     "metadata": {},
     "output_type": "execute_result"
    }
   ],
   "source": [
    "df.head(5)"
   ]
  },
  {
   "cell_type": "code",
   "execution_count": 15,
   "id": "e18df3f0",
   "metadata": {},
   "outputs": [
    {
     "data": {
      "text/plain": [
       "VendorID                          uint8\n",
       "tpep_pickup_datetime     datetime64[ns]\n",
       "tpep_dropoff_datetime    datetime64[ns]\n",
       "passenger_count                   uint8\n",
       "trip_distance                   float64\n",
       "RatecodeID                        uint8\n",
       "store_and_fwd_flag               object\n",
       "PULocationID                     uint16\n",
       "DOLocationID                     uint16\n",
       "payment_type                      uint8\n",
       "fare_amount                     float64\n",
       "extra                           float64\n",
       "mta_tax                         float64\n",
       "tip_amount                      float64\n",
       "tolls_amount                    float64\n",
       "improvement_surcharge           float64\n",
       "total_amount                    float64\n",
       "congestion_surcharge            float64\n",
       "dtype: object"
      ]
     },
     "execution_count": 15,
     "metadata": {},
     "output_type": "execute_result"
    }
   ],
   "source": [
    "df.dtypes"
   ]
  },
  {
   "cell_type": "code",
   "execution_count": 16,
   "id": "7e71e4e0",
   "metadata": {},
   "outputs": [
    {
     "name": "stdout",
     "output_type": "stream",
     "text": [
      "[########################################] | 100% Completed | 33.2s\n"
     ]
    },
    {
     "data": {
      "text/plain": [
       "0    1\n",
       "1    2\n",
       "2    4\n",
       "3    5\n",
       "4    3\n",
       "5    6\n",
       "Name: RatecodeID, dtype: uint8"
      ]
     },
     "execution_count": 16,
     "metadata": {},
     "output_type": "execute_result"
    }
   ],
   "source": [
    "df['RatecodeID'].unique().compute()"
   ]
  },
  {
   "cell_type": "code",
   "execution_count": 17,
   "id": "14d43416",
   "metadata": {},
   "outputs": [
    {
     "name": "stdout",
     "output_type": "stream",
     "text": [
      "[########################################] | 100% Completed | 33.4s\n"
     ]
    },
    {
     "data": {
      "text/plain": [
       "0    1\n",
       "1    2\n",
       "2    3\n",
       "3    5\n",
       "4    4\n",
       "5    6\n",
       "6    7\n",
       "7    8\n",
       "8    9\n",
       "Name: passenger_count, dtype: uint8"
      ]
     },
     "execution_count": 17,
     "metadata": {},
     "output_type": "execute_result"
    }
   ],
   "source": [
    "df['passenger_count'].unique().compute()"
   ]
  },
  {
   "cell_type": "code",
   "execution_count": 18,
   "id": "3552eb5a",
   "metadata": {},
   "outputs": [
    {
     "name": "stdout",
     "output_type": "stream",
     "text": [
      "[########################################] | 100% Completed | 34.0s\n"
     ]
    },
    {
     "data": {
      "text/html": [
       "<div>\n",
       "<style scoped>\n",
       "    .dataframe tbody tr th:only-of-type {\n",
       "        vertical-align: middle;\n",
       "    }\n",
       "\n",
       "    .dataframe tbody tr th {\n",
       "        vertical-align: top;\n",
       "    }\n",
       "\n",
       "    .dataframe thead th {\n",
       "        text-align: right;\n",
       "    }\n",
       "</style>\n",
       "<table border=\"1\" class=\"dataframe\">\n",
       "  <thead>\n",
       "    <tr style=\"text-align: right;\">\n",
       "      <th></th>\n",
       "      <th>VendorID</th>\n",
       "      <th>tpep_pickup_datetime</th>\n",
       "      <th>tpep_dropoff_datetime</th>\n",
       "      <th>passenger_count</th>\n",
       "      <th>trip_distance</th>\n",
       "      <th>RatecodeID</th>\n",
       "      <th>store_and_fwd_flag</th>\n",
       "      <th>PULocationID</th>\n",
       "      <th>DOLocationID</th>\n",
       "      <th>payment_type</th>\n",
       "      <th>fare_amount</th>\n",
       "      <th>extra</th>\n",
       "      <th>mta_tax</th>\n",
       "      <th>tip_amount</th>\n",
       "      <th>tolls_amount</th>\n",
       "      <th>improvement_surcharge</th>\n",
       "      <th>total_amount</th>\n",
       "      <th>congestion_surcharge</th>\n",
       "    </tr>\n",
       "  </thead>\n",
       "  <tbody>\n",
       "    <tr>\n",
       "      <th>0</th>\n",
       "      <td>1</td>\n",
       "      <td>2021-01-01 00:30:10</td>\n",
       "      <td>2021-01-01 00:36:12</td>\n",
       "      <td>1</td>\n",
       "      <td>2.10</td>\n",
       "      <td>1</td>\n",
       "      <td>N</td>\n",
       "      <td>142</td>\n",
       "      <td>43</td>\n",
       "      <td>2</td>\n",
       "      <td>8.0</td>\n",
       "      <td>3.0</td>\n",
       "      <td>0.5</td>\n",
       "      <td>0.00</td>\n",
       "      <td>0.00</td>\n",
       "      <td>0.3</td>\n",
       "      <td>11.80</td>\n",
       "      <td>2.5</td>\n",
       "    </tr>\n",
       "    <tr>\n",
       "      <th>1</th>\n",
       "      <td>1</td>\n",
       "      <td>2021-01-01 00:51:20</td>\n",
       "      <td>2021-01-01 00:52:19</td>\n",
       "      <td>1</td>\n",
       "      <td>0.20</td>\n",
       "      <td>1</td>\n",
       "      <td>N</td>\n",
       "      <td>238</td>\n",
       "      <td>151</td>\n",
       "      <td>2</td>\n",
       "      <td>3.0</td>\n",
       "      <td>0.5</td>\n",
       "      <td>0.5</td>\n",
       "      <td>0.00</td>\n",
       "      <td>0.00</td>\n",
       "      <td>0.3</td>\n",
       "      <td>4.30</td>\n",
       "      <td>0.0</td>\n",
       "    </tr>\n",
       "    <tr>\n",
       "      <th>2</th>\n",
       "      <td>1</td>\n",
       "      <td>2021-01-01 00:43:30</td>\n",
       "      <td>2021-01-01 01:11:06</td>\n",
       "      <td>1</td>\n",
       "      <td>14.70</td>\n",
       "      <td>1</td>\n",
       "      <td>N</td>\n",
       "      <td>132</td>\n",
       "      <td>165</td>\n",
       "      <td>1</td>\n",
       "      <td>42.0</td>\n",
       "      <td>0.5</td>\n",
       "      <td>0.5</td>\n",
       "      <td>8.65</td>\n",
       "      <td>0.00</td>\n",
       "      <td>0.3</td>\n",
       "      <td>51.95</td>\n",
       "      <td>0.0</td>\n",
       "    </tr>\n",
       "    <tr>\n",
       "      <th>4</th>\n",
       "      <td>2</td>\n",
       "      <td>2021-01-01 00:31:49</td>\n",
       "      <td>2021-01-01 00:48:21</td>\n",
       "      <td>1</td>\n",
       "      <td>4.94</td>\n",
       "      <td>1</td>\n",
       "      <td>N</td>\n",
       "      <td>68</td>\n",
       "      <td>33</td>\n",
       "      <td>1</td>\n",
       "      <td>16.5</td>\n",
       "      <td>0.5</td>\n",
       "      <td>0.5</td>\n",
       "      <td>4.06</td>\n",
       "      <td>0.00</td>\n",
       "      <td>0.3</td>\n",
       "      <td>24.36</td>\n",
       "      <td>2.5</td>\n",
       "    </tr>\n",
       "    <tr>\n",
       "      <th>5</th>\n",
       "      <td>1</td>\n",
       "      <td>2021-01-01 00:16:29</td>\n",
       "      <td>2021-01-01 00:24:30</td>\n",
       "      <td>1</td>\n",
       "      <td>1.60</td>\n",
       "      <td>1</td>\n",
       "      <td>N</td>\n",
       "      <td>224</td>\n",
       "      <td>68</td>\n",
       "      <td>1</td>\n",
       "      <td>8.0</td>\n",
       "      <td>3.0</td>\n",
       "      <td>0.5</td>\n",
       "      <td>2.35</td>\n",
       "      <td>0.00</td>\n",
       "      <td>0.3</td>\n",
       "      <td>14.15</td>\n",
       "      <td>2.5</td>\n",
       "    </tr>\n",
       "    <tr>\n",
       "      <th>...</th>\n",
       "      <td>...</td>\n",
       "      <td>...</td>\n",
       "      <td>...</td>\n",
       "      <td>...</td>\n",
       "      <td>...</td>\n",
       "      <td>...</td>\n",
       "      <td>...</td>\n",
       "      <td>...</td>\n",
       "      <td>...</td>\n",
       "      <td>...</td>\n",
       "      <td>...</td>\n",
       "      <td>...</td>\n",
       "      <td>...</td>\n",
       "      <td>...</td>\n",
       "      <td>...</td>\n",
       "      <td>...</td>\n",
       "      <td>...</td>\n",
       "      <td>...</td>\n",
       "    </tr>\n",
       "    <tr>\n",
       "      <th>75</th>\n",
       "      <td>2</td>\n",
       "      <td>2021-01-31 23:57:54</td>\n",
       "      <td>2021-02-01 00:02:57</td>\n",
       "      <td>6</td>\n",
       "      <td>1.44</td>\n",
       "      <td>1</td>\n",
       "      <td>N</td>\n",
       "      <td>158</td>\n",
       "      <td>100</td>\n",
       "      <td>1</td>\n",
       "      <td>6.5</td>\n",
       "      <td>0.5</td>\n",
       "      <td>0.5</td>\n",
       "      <td>2.58</td>\n",
       "      <td>0.00</td>\n",
       "      <td>0.3</td>\n",
       "      <td>12.88</td>\n",
       "      <td>2.5</td>\n",
       "    </tr>\n",
       "    <tr>\n",
       "      <th>113</th>\n",
       "      <td>2</td>\n",
       "      <td>2021-01-31 23:53:54</td>\n",
       "      <td>2021-02-01 00:14:01</td>\n",
       "      <td>5</td>\n",
       "      <td>4.53</td>\n",
       "      <td>1</td>\n",
       "      <td>N</td>\n",
       "      <td>48</td>\n",
       "      <td>112</td>\n",
       "      <td>2</td>\n",
       "      <td>16.5</td>\n",
       "      <td>0.5</td>\n",
       "      <td>0.5</td>\n",
       "      <td>0.00</td>\n",
       "      <td>6.12</td>\n",
       "      <td>0.3</td>\n",
       "      <td>26.42</td>\n",
       "      <td>2.5</td>\n",
       "    </tr>\n",
       "    <tr>\n",
       "      <th>115</th>\n",
       "      <td>2</td>\n",
       "      <td>2021-01-31 23:38:51</td>\n",
       "      <td>2021-02-01 00:07:06</td>\n",
       "      <td>1</td>\n",
       "      <td>9.78</td>\n",
       "      <td>1</td>\n",
       "      <td>N</td>\n",
       "      <td>236</td>\n",
       "      <td>97</td>\n",
       "      <td>2</td>\n",
       "      <td>29.5</td>\n",
       "      <td>0.5</td>\n",
       "      <td>0.5</td>\n",
       "      <td>0.00</td>\n",
       "      <td>0.00</td>\n",
       "      <td>0.3</td>\n",
       "      <td>33.30</td>\n",
       "      <td>2.5</td>\n",
       "    </tr>\n",
       "    <tr>\n",
       "      <th>135</th>\n",
       "      <td>2</td>\n",
       "      <td>2021-01-31 23:59:05</td>\n",
       "      <td>2021-02-01 00:16:59</td>\n",
       "      <td>1</td>\n",
       "      <td>3.80</td>\n",
       "      <td>1</td>\n",
       "      <td>N</td>\n",
       "      <td>230</td>\n",
       "      <td>79</td>\n",
       "      <td>1</td>\n",
       "      <td>14.0</td>\n",
       "      <td>0.5</td>\n",
       "      <td>0.5</td>\n",
       "      <td>10.00</td>\n",
       "      <td>0.00</td>\n",
       "      <td>0.3</td>\n",
       "      <td>27.80</td>\n",
       "      <td>2.5</td>\n",
       "    </tr>\n",
       "    <tr>\n",
       "      <th>192</th>\n",
       "      <td>2</td>\n",
       "      <td>2021-01-31 23:28:39</td>\n",
       "      <td>2021-01-31 23:38:47</td>\n",
       "      <td>1</td>\n",
       "      <td>1.33</td>\n",
       "      <td>1</td>\n",
       "      <td>N</td>\n",
       "      <td>162</td>\n",
       "      <td>141</td>\n",
       "      <td>2</td>\n",
       "      <td>6.5</td>\n",
       "      <td>0.5</td>\n",
       "      <td>0.5</td>\n",
       "      <td>0.00</td>\n",
       "      <td>0.00</td>\n",
       "      <td>0.3</td>\n",
       "      <td>10.30</td>\n",
       "      <td>2.5</td>\n",
       "    </tr>\n",
       "  </tbody>\n",
       "</table>\n",
       "<p>1220211 rows × 18 columns</p>\n",
       "</div>"
      ],
      "text/plain": [
       "     VendorID tpep_pickup_datetime tpep_dropoff_datetime  passenger_count  \\\n",
       "0           1  2021-01-01 00:30:10   2021-01-01 00:36:12                1   \n",
       "1           1  2021-01-01 00:51:20   2021-01-01 00:52:19                1   \n",
       "2           1  2021-01-01 00:43:30   2021-01-01 01:11:06                1   \n",
       "4           2  2021-01-01 00:31:49   2021-01-01 00:48:21                1   \n",
       "5           1  2021-01-01 00:16:29   2021-01-01 00:24:30                1   \n",
       "..        ...                  ...                   ...              ...   \n",
       "75          2  2021-01-31 23:57:54   2021-02-01 00:02:57                6   \n",
       "113         2  2021-01-31 23:53:54   2021-02-01 00:14:01                5   \n",
       "115         2  2021-01-31 23:38:51   2021-02-01 00:07:06                1   \n",
       "135         2  2021-01-31 23:59:05   2021-02-01 00:16:59                1   \n",
       "192         2  2021-01-31 23:28:39   2021-01-31 23:38:47                1   \n",
       "\n",
       "     trip_distance  RatecodeID store_and_fwd_flag  PULocationID  DOLocationID  \\\n",
       "0             2.10           1                  N           142            43   \n",
       "1             0.20           1                  N           238           151   \n",
       "2            14.70           1                  N           132           165   \n",
       "4             4.94           1                  N            68            33   \n",
       "5             1.60           1                  N           224            68   \n",
       "..             ...         ...                ...           ...           ...   \n",
       "75            1.44           1                  N           158           100   \n",
       "113           4.53           1                  N            48           112   \n",
       "115           9.78           1                  N           236            97   \n",
       "135           3.80           1                  N           230            79   \n",
       "192           1.33           1                  N           162           141   \n",
       "\n",
       "     payment_type  fare_amount  extra  mta_tax  tip_amount  tolls_amount  \\\n",
       "0               2          8.0    3.0      0.5        0.00          0.00   \n",
       "1               2          3.0    0.5      0.5        0.00          0.00   \n",
       "2               1         42.0    0.5      0.5        8.65          0.00   \n",
       "4               1         16.5    0.5      0.5        4.06          0.00   \n",
       "5               1          8.0    3.0      0.5        2.35          0.00   \n",
       "..            ...          ...    ...      ...         ...           ...   \n",
       "75              1          6.5    0.5      0.5        2.58          0.00   \n",
       "113             2         16.5    0.5      0.5        0.00          6.12   \n",
       "115             2         29.5    0.5      0.5        0.00          0.00   \n",
       "135             1         14.0    0.5      0.5       10.00          0.00   \n",
       "192             2          6.5    0.5      0.5        0.00          0.00   \n",
       "\n",
       "     improvement_surcharge  total_amount  congestion_surcharge  \n",
       "0                      0.3         11.80                   2.5  \n",
       "1                      0.3          4.30                   0.0  \n",
       "2                      0.3         51.95                   0.0  \n",
       "4                      0.3         24.36                   2.5  \n",
       "5                      0.3         14.15                   2.5  \n",
       "..                     ...           ...                   ...  \n",
       "75                     0.3         12.88                   2.5  \n",
       "113                    0.3         26.42                   2.5  \n",
       "115                    0.3         33.30                   2.5  \n",
       "135                    0.3         27.80                   2.5  \n",
       "192                    0.3         10.30                   2.5  \n",
       "\n",
       "[1220211 rows x 18 columns]"
      ]
     },
     "execution_count": 18,
     "metadata": {},
     "output_type": "execute_result"
    }
   ],
   "source": [
    "df[(df.tpep_pickup_datetime.dt.month == 1) & (df.tpep_pickup_datetime.dt.year == 2021)].compute()"
   ]
  },
  {
   "cell_type": "code",
   "execution_count": 19,
   "id": "4461f69e",
   "metadata": {},
   "outputs": [
    {
     "data": {
      "text/plain": [
       "Index(['VendorID', 'tpep_pickup_datetime', 'tpep_dropoff_datetime',\n",
       "       'passenger_count', 'trip_distance', 'RatecodeID', 'store_and_fwd_flag',\n",
       "       'PULocationID', 'DOLocationID', 'payment_type', 'fare_amount', 'extra',\n",
       "       'mta_tax', 'tip_amount', 'tolls_amount', 'improvement_surcharge',\n",
       "       'total_amount', 'congestion_surcharge'],\n",
       "      dtype='object')"
      ]
     },
     "execution_count": 19,
     "metadata": {},
     "output_type": "execute_result"
    }
   ],
   "source": [
    "df.columns"
   ]
  },
  {
   "cell_type": "code",
   "execution_count": 20,
   "id": "1d62809c",
   "metadata": {},
   "outputs": [
    {
     "data": {
      "text/plain": [
       "<dask.dataframe.groupby.DataFrameGroupBy at 0x27331fb8d30>"
      ]
     },
     "execution_count": 20,
     "metadata": {},
     "output_type": "execute_result"
    }
   ],
   "source": [
    "df.groupby(df['tpep_pickup_datetime'])"
   ]
  },
  {
   "cell_type": "code",
   "execution_count": 21,
   "id": "d77acfa2",
   "metadata": {},
   "outputs": [],
   "source": [
    "df['month'] = df['tpep_pickup_datetime'].dt.strftime(\"%B\")"
   ]
  },
  {
   "cell_type": "code",
   "execution_count": 22,
   "id": "91d4640a",
   "metadata": {},
   "outputs": [
    {
     "name": "stdout",
     "output_type": "stream",
     "text": [
      "[########################################] | 100% Completed |  1min 42.1s\n"
     ]
    },
    {
     "data": {
      "text/plain": [
       "month\n",
       "December     3.284889\n",
       "February     2.657960\n",
       "January      2.742332\n",
       "March        2.617687\n",
       "April        2.838703\n",
       "May          2.947852\n",
       "July         3.254022\n",
       "June         3.048735\n",
       "August       4.481714\n",
       "November     2.010000\n",
       "October      2.880000\n",
       "September    1.330000\n",
       "Name: trip_distance, dtype: float64"
      ]
     },
     "execution_count": 22,
     "metadata": {},
     "output_type": "execute_result"
    }
   ],
   "source": [
    "df.groupby(df['month'])['trip_distance'].mean().compute()"
   ]
  },
  {
   "cell_type": "code",
   "execution_count": 23,
   "id": "315fba8b",
   "metadata": {},
   "outputs": [
    {
     "name": "stdout",
     "output_type": "stream",
     "text": [
      "[########################################] | 100% Completed |  1min 41.4s\n"
     ]
    },
    {
     "data": {
      "text/plain": [
       "2.6176865091817327"
      ]
     },
     "execution_count": 23,
     "metadata": {},
     "output_type": "execute_result"
    }
   ],
   "source": [
    "df[(df.tpep_pickup_datetime.dt.month == 3) & (df.tpep_pickup_datetime.dt.year == 2021)]['trip_distance'].mean().compute()"
   ]
  },
  {
   "cell_type": "code",
   "execution_count": 15,
   "id": "6f24057a",
   "metadata": {},
   "outputs": [
    {
     "name": "stdout",
     "output_type": "stream",
     "text": [
      "[########################################] | 100% Completed | 33.3s\n"
     ]
    },
    {
     "data": {
      "text/html": [
       "<div>\n",
       "<style scoped>\n",
       "    .dataframe tbody tr th:only-of-type {\n",
       "        vertical-align: middle;\n",
       "    }\n",
       "\n",
       "    .dataframe tbody tr th {\n",
       "        vertical-align: top;\n",
       "    }\n",
       "\n",
       "    .dataframe thead th {\n",
       "        text-align: right;\n",
       "    }\n",
       "</style>\n",
       "<table border=\"1\" class=\"dataframe\">\n",
       "  <thead>\n",
       "    <tr style=\"text-align: right;\">\n",
       "      <th></th>\n",
       "      <th>VendorID</th>\n",
       "      <th>tpep_pickup_datetime</th>\n",
       "      <th>tpep_dropoff_datetime</th>\n",
       "      <th>passenger_count</th>\n",
       "      <th>trip_distance</th>\n",
       "      <th>RatecodeID</th>\n",
       "      <th>store_and_fwd_flag</th>\n",
       "      <th>PULocationID</th>\n",
       "      <th>DOLocationID</th>\n",
       "      <th>payment_type</th>\n",
       "      <th>fare_amount</th>\n",
       "      <th>extra</th>\n",
       "      <th>mta_tax</th>\n",
       "      <th>tip_amount</th>\n",
       "      <th>tolls_amount</th>\n",
       "      <th>improvement_surcharge</th>\n",
       "      <th>total_amount</th>\n",
       "      <th>congestion_surcharge</th>\n",
       "    </tr>\n",
       "  </thead>\n",
       "  <tbody>\n",
       "    <tr>\n",
       "      <th>567150</th>\n",
       "      <td>2</td>\n",
       "      <td>2021-12-15 14:37:15</td>\n",
       "      <td>2021-12-15 14:44:55</td>\n",
       "      <td>1</td>\n",
       "      <td>0.78</td>\n",
       "      <td>1</td>\n",
       "      <td>N</td>\n",
       "      <td>107</td>\n",
       "      <td>234</td>\n",
       "      <td>1</td>\n",
       "      <td>6.5</td>\n",
       "      <td>0.0</td>\n",
       "      <td>0.5</td>\n",
       "      <td>2.45</td>\n",
       "      <td>0.0</td>\n",
       "      <td>0.3</td>\n",
       "      <td>12.25</td>\n",
       "      <td>2.5</td>\n",
       "    </tr>\n",
       "    <tr>\n",
       "      <th>567151</th>\n",
       "      <td>2</td>\n",
       "      <td>2021-12-15 14:47:19</td>\n",
       "      <td>2021-12-15 14:57:49</td>\n",
       "      <td>1</td>\n",
       "      <td>1.62</td>\n",
       "      <td>1</td>\n",
       "      <td>N</td>\n",
       "      <td>234</td>\n",
       "      <td>79</td>\n",
       "      <td>1</td>\n",
       "      <td>8.0</td>\n",
       "      <td>0.0</td>\n",
       "      <td>0.5</td>\n",
       "      <td>0.00</td>\n",
       "      <td>0.0</td>\n",
       "      <td>0.3</td>\n",
       "      <td>11.30</td>\n",
       "      <td>2.5</td>\n",
       "    </tr>\n",
       "    <tr>\n",
       "      <th>567152</th>\n",
       "      <td>2</td>\n",
       "      <td>2021-12-15 15:00:19</td>\n",
       "      <td>2021-12-15 15:09:54</td>\n",
       "      <td>1</td>\n",
       "      <td>1.77</td>\n",
       "      <td>1</td>\n",
       "      <td>N</td>\n",
       "      <td>79</td>\n",
       "      <td>233</td>\n",
       "      <td>1</td>\n",
       "      <td>9.0</td>\n",
       "      <td>0.0</td>\n",
       "      <td>0.5</td>\n",
       "      <td>3.08</td>\n",
       "      <td>0.0</td>\n",
       "      <td>0.3</td>\n",
       "      <td>15.38</td>\n",
       "      <td>2.5</td>\n",
       "    </tr>\n",
       "    <tr>\n",
       "      <th>567153</th>\n",
       "      <td>2</td>\n",
       "      <td>2021-12-15 15:13:23</td>\n",
       "      <td>2021-12-15 15:21:36</td>\n",
       "      <td>1</td>\n",
       "      <td>1.23</td>\n",
       "      <td>1</td>\n",
       "      <td>N</td>\n",
       "      <td>233</td>\n",
       "      <td>163</td>\n",
       "      <td>1</td>\n",
       "      <td>7.0</td>\n",
       "      <td>0.0</td>\n",
       "      <td>0.5</td>\n",
       "      <td>2.06</td>\n",
       "      <td>0.0</td>\n",
       "      <td>0.3</td>\n",
       "      <td>12.36</td>\n",
       "      <td>2.5</td>\n",
       "    </tr>\n",
       "    <tr>\n",
       "      <th>567154</th>\n",
       "      <td>2</td>\n",
       "      <td>2021-12-15 15:24:08</td>\n",
       "      <td>2021-12-15 23:10:05</td>\n",
       "      <td>1</td>\n",
       "      <td>7.80</td>\n",
       "      <td>2</td>\n",
       "      <td>N</td>\n",
       "      <td>163</td>\n",
       "      <td>95</td>\n",
       "      <td>1</td>\n",
       "      <td>52.0</td>\n",
       "      <td>0.0</td>\n",
       "      <td>0.5</td>\n",
       "      <td>13.82</td>\n",
       "      <td>0.0</td>\n",
       "      <td>0.3</td>\n",
       "      <td>69.12</td>\n",
       "      <td>2.5</td>\n",
       "    </tr>\n",
       "  </tbody>\n",
       "</table>\n",
       "</div>"
      ],
      "text/plain": [
       "        VendorID tpep_pickup_datetime tpep_dropoff_datetime  passenger_count  \\\n",
       "567150         2  2021-12-15 14:37:15   2021-12-15 14:44:55                1   \n",
       "567151         2  2021-12-15 14:47:19   2021-12-15 14:57:49                1   \n",
       "567152         2  2021-12-15 15:00:19   2021-12-15 15:09:54                1   \n",
       "567153         2  2021-12-15 15:13:23   2021-12-15 15:21:36                1   \n",
       "567154         2  2021-12-15 15:24:08   2021-12-15 23:10:05                1   \n",
       "\n",
       "        trip_distance  RatecodeID store_and_fwd_flag  PULocationID  \\\n",
       "567150           0.78           1                  N           107   \n",
       "567151           1.62           1                  N           234   \n",
       "567152           1.77           1                  N            79   \n",
       "567153           1.23           1                  N           233   \n",
       "567154           7.80           2                  N           163   \n",
       "\n",
       "        DOLocationID  payment_type  fare_amount  extra  mta_tax  tip_amount  \\\n",
       "567150           234             1          6.5    0.0      0.5        2.45   \n",
       "567151            79             1          8.0    0.0      0.5        0.00   \n",
       "567152           233             1          9.0    0.0      0.5        3.08   \n",
       "567153           163             1          7.0    0.0      0.5        2.06   \n",
       "567154            95             1         52.0    0.0      0.5       13.82   \n",
       "\n",
       "        tolls_amount  improvement_surcharge  total_amount  \\\n",
       "567150           0.0                    0.3         12.25   \n",
       "567151           0.0                    0.3         11.30   \n",
       "567152           0.0                    0.3         15.38   \n",
       "567153           0.0                    0.3         12.36   \n",
       "567154           0.0                    0.3         69.12   \n",
       "\n",
       "        congestion_surcharge  \n",
       "567150                   2.5  \n",
       "567151                   2.5  \n",
       "567152                   2.5  \n",
       "567153                   2.5  \n",
       "567154                   2.5  "
      ]
     },
     "execution_count": 15,
     "metadata": {},
     "output_type": "execute_result"
    }
   ],
   "source": [
    "df[(df.tpep_pickup_datetime.dt.month == 12)].compute()"
   ]
  },
  {
   "cell_type": "code",
   "execution_count": 48,
   "id": "52c23b0b",
   "metadata": {},
   "outputs": [
    {
     "name": "stdout",
     "output_type": "stream",
     "text": [
      "[########################################] | 100% Completed |  3min 26.2s\n"
     ]
    }
   ],
   "source": [
    "rolling_df = df.compute()"
   ]
  },
  {
   "cell_type": "code",
   "execution_count": 52,
   "id": "edf48754",
   "metadata": {},
   "outputs": [
    {
     "name": "stdout",
     "output_type": "stream",
     "text": [
      "[########################################] | 100% Completed |  1min 40.0s\n"
     ]
    },
    {
     "data": {
      "text/plain": [
       "tpep_pickup_datetime  tpep_pickup_datetime\n",
       "2009                  1                       2.995000\n",
       "2020                  12                      4.814375\n",
       "2021                  1                       2.742312\n",
       "                      2                       2.657960\n",
       "2008                  12                      2.399583\n",
       "2021                  3                       2.617687\n",
       "                      4                       2.838704\n",
       "                      5                       2.947853\n",
       "                      6                       3.048735\n",
       "                      7                       3.254022\n",
       "                      8                       4.481714\n",
       "                      9                       1.330000\n",
       "                      10                      2.880000\n",
       "                      11                      2.010000\n",
       "                      12                      2.640000\n",
       "2029                  5                       1.690000\n",
       "2004                  4                       1.590000\n",
       "Name: trip_distance, dtype: float64"
      ]
     },
     "execution_count": 52,
     "metadata": {},
     "output_type": "execute_result"
    }
   ],
   "source": [
    "df.groupby(by=[df.tpep_pickup_datetime.dt.year, df.tpep_pickup_datetime.dt.month])['trip_distance'].mean().compute()"
   ]
  },
  {
   "cell_type": "code",
   "execution_count": 89,
   "id": "490002b0",
   "metadata": {},
   "outputs": [],
   "source": [
    "sss = rolling_df.groupby(by=[rolling_df.tpep_pickup_datetime.dt.year, rolling_df.tpep_pickup_datetime.dt.month])['trip_distance'].rolling(45).mean().to_frame(name = 'meanaa')"
   ]
  },
  {
   "cell_type": "code",
   "execution_count": 93,
   "id": "6d15ad16",
   "metadata": {},
   "outputs": [],
   "source": [
    "sss.droplevel(0).reset_index()['meanaa']"
   ]
  },
  {
   "cell_type": "code",
   "execution_count": 24,
   "id": "94166af2",
   "metadata": {},
   "outputs": [
    {
     "name": "stdout",
     "output_type": "stream",
     "text": [
      "(0, 'January')\n",
      "(1, 'February')\n",
      "(2, 'March')\n",
      "(3, 'April')\n",
      "(4, 'May')\n",
      "(5, 'June')\n",
      "(6, 'July')\n",
      "(7, 'August')\n",
      "(8, 'September')\n",
      "(9, 'October')\n",
      "(10, 'November')\n",
      "(11, 'December')\n"
     ]
    }
   ],
   "source": [
    "import calendar\n",
    "months = list(calendar.month_name)[1:]\n",
    "for month in enumerate(months):\n",
    "    print(month)"
   ]
  },
  {
   "cell_type": "code",
   "execution_count": 26,
   "id": "8f0d2db9",
   "metadata": {},
   "outputs": [
    {
     "data": {
      "text/plain": [
       "dask.dataframe.core.DataFrame"
      ]
     },
     "execution_count": 26,
     "metadata": {},
     "output_type": "execute_result"
    }
   ],
   "source": [
    "type(df)"
   ]
  },
  {
   "cell_type": "code",
   "execution_count": 27,
   "id": "597c4e27",
   "metadata": {},
   "outputs": [
    {
     "data": {
      "text/plain": [
       "18"
      ]
     },
     "execution_count": 27,
     "metadata": {},
     "output_type": "execute_result"
    }
   ],
   "source": [
    "len(df.columns)"
   ]
  },
  {
   "cell_type": "code",
   "execution_count": 36,
   "id": "1a0fe73d",
   "metadata": {},
   "outputs": [
    {
     "name": "stdout",
     "output_type": "stream",
     "text": [
      "[########################################] | 100% Completed |  1min 20.9s\n"
     ]
    },
    {
     "data": {
      "text/plain": [
       "{2021}"
      ]
     },
     "execution_count": 36,
     "metadata": {},
     "output_type": "execute_result"
    }
   ],
   "source": [
    "set(df.sample(frac=0.00001).tpep_pickup_datetime.dt.year.compute()) "
   ]
  },
  {
   "cell_type": "code",
   "execution_count": 40,
   "id": "a79ed8a0",
   "metadata": {},
   "outputs": [
    {
     "name": "stdout",
     "output_type": "stream",
     "text": [
      "[########################################] | 100% Completed |  1min 18.1s\n"
     ]
    }
   ],
   "source": [
    "sample_df = df.sample(frac=0.000001).compute()"
   ]
  },
  {
   "cell_type": "code",
   "execution_count": 42,
   "id": "1789a5c0",
   "metadata": {},
   "outputs": [
    {
     "data": {
      "text/plain": [
       "{2021}"
      ]
     },
     "execution_count": 42,
     "metadata": {},
     "output_type": "execute_result"
    }
   ],
   "source": [
    "set(sample_df.tpep_dropoff_datetime.dt.year)"
   ]
  },
  {
   "cell_type": "code",
   "execution_count": 4,
   "id": "07a1938c",
   "metadata": {},
   "outputs": [],
   "source": [
    "url = 'https://s3.amazonaws.com/nyc-tlc/trip+data/yellow_tripdata_2021-01.csv'"
   ]
  },
  {
   "cell_type": "code",
   "execution_count": 10,
   "id": "d4a5feb9",
   "metadata": {},
   "outputs": [],
   "source": [
    "df = dd.read_csv(url, \n",
    "                 dtype={'RatecodeID': 'float64','VendorID': 'float64', 'passenger_count': 'float64', 'payment_type': 'float64'},\n",
    "                 converters = {'store_and_fwd_flag': convert_dtype}, parse_dates=date_fields)"
   ]
  },
  {
   "cell_type": "code",
   "execution_count": 47,
   "id": "77921dcc",
   "metadata": {},
   "outputs": [
    {
     "name": "stdout",
     "output_type": "stream",
     "text": [
      "Collecting aiohttp\n",
      "  Downloading aiohttp-3.8.1-cp38-cp38-win_amd64.whl (555 kB)\n",
      "Collecting async-timeout<5.0,>=4.0.0a3\n",
      "  Downloading async_timeout-4.0.2-py3-none-any.whl (5.8 kB)\n",
      "Collecting charset-normalizer<3.0,>=2.0\n",
      "  Downloading charset_normalizer-2.0.12-py3-none-any.whl (39 kB)\n",
      "Requirement already satisfied: attrs>=17.3.0 in e:\\anaconda3\\lib\\site-packages (from aiohttp) (21.2.0)\n",
      "Collecting yarl<2.0,>=1.0\n",
      "  Downloading yarl-1.7.2-cp38-cp38-win_amd64.whl (122 kB)\n",
      "Collecting multidict<7.0,>=4.5\n",
      "  Downloading multidict-6.0.2-cp38-cp38-win_amd64.whl (28 kB)\n",
      "Collecting frozenlist>=1.1.1\n",
      "  Downloading frozenlist-1.3.0-cp38-cp38-win_amd64.whl (33 kB)\n",
      "Collecting aiosignal>=1.1.2\n",
      "  Downloading aiosignal-1.2.0-py3-none-any.whl (8.2 kB)\n",
      "Requirement already satisfied: idna>=2.0 in e:\\anaconda3\\lib\\site-packages (from yarl<2.0,>=1.0->aiohttp) (2.10)\n",
      "Installing collected packages: multidict, frozenlist, yarl, charset-normalizer, async-timeout, aiosignal, aiohttp\n",
      "Successfully installed aiohttp-3.8.1 aiosignal-1.2.0 async-timeout-4.0.2 charset-normalizer-2.0.12 frozenlist-1.3.0 multidict-6.0.2 yarl-1.7.2\n",
      "Note: you may need to restart the kernel to use updated packages.\n"
     ]
    },
    {
     "name": "stderr",
     "output_type": "stream",
     "text": [
      "The system cannot find the path specified.\n",
      "WARNING: Ignoring invalid distribution -ip (e:\\anaconda3\\lib\\site-packages)\n",
      "WARNING: Ignoring invalid distribution -ip (e:\\anaconda3\\lib\\site-packages)\n",
      "WARNING: Ignoring invalid distribution -ip (e:\\anaconda3\\lib\\site-packages)\n",
      "WARNING: Ignoring invalid distribution -ip (e:\\anaconda3\\lib\\site-packages)\n",
      "WARNING: Ignoring invalid distribution -ip (e:\\anaconda3\\lib\\site-packages)\n",
      "WARNING: Ignoring invalid distribution -ip (e:\\anaconda3\\lib\\site-packages)\n",
      "WARNING: Ignoring invalid distribution -ip (e:\\anaconda3\\lib\\site-packages)\n",
      "WARNING: Ignoring invalid distribution -ip (e:\\anaconda3\\lib\\site-packages)\n",
      "WARNING: Ignoring invalid distribution -ip (e:\\anaconda3\\lib\\site-packages)\n",
      "WARNING: Ignoring invalid distribution -ip (e:\\anaconda3\\lib\\site-packages)\n",
      "WARNING: Ignoring invalid distribution -ip (e:\\anaconda3\\lib\\site-packages)\n",
      "WARNING: Ignoring invalid distribution -ip (e:\\anaconda3\\lib\\site-packages)\n",
      "WARNING: Ignoring invalid distribution -ip (e:\\anaconda3\\lib\\site-packages)\n"
     ]
    }
   ],
   "source": [
    "pip install aiohttp"
   ]
  },
  {
   "cell_type": "code",
   "execution_count": null,
   "id": "1af9e1fc",
   "metadata": {},
   "outputs": [],
   "source": []
  }
 ],
 "metadata": {
  "kernelspec": {
   "display_name": "Python 3",
   "language": "python",
   "name": "python3"
  },
  "language_info": {
   "codemirror_mode": {
    "name": "ipython",
    "version": 3
   },
   "file_extension": ".py",
   "mimetype": "text/x-python",
   "name": "python",
   "nbconvert_exporter": "python",
   "pygments_lexer": "ipython3",
   "version": "3.8.8"
  }
 },
 "nbformat": 4,
 "nbformat_minor": 5
}
